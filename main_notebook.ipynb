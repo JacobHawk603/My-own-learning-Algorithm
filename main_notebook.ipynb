{
 "cells": [
  {
   "cell_type": "code",
   "execution_count": 1,
   "metadata": {},
   "outputs": [],
   "source": [
    "import pandas as pd"
   ]
  },
  {
   "cell_type": "markdown",
   "metadata": {},
   "source": [
    "# Import and process the dataset"
   ]
  },
  {
   "cell_type": "code",
   "execution_count": 2,
   "metadata": {},
   "outputs": [
    {
     "name": "stdout",
     "output_type": "stream",
     "text": [
      "     Class cap-shape cap-surface cap-color bruises? odor gill-attachment  \\\n",
      "0        p         x           s         n        t    p               f   \n",
      "1        e         x           s         y        t    a               f   \n",
      "2        e         b           s         w        t    l               f   \n",
      "3        p         x           y         w        t    p               f   \n",
      "4        e         x           s         g        f    n               f   \n",
      "...    ...       ...         ...       ...      ...  ...             ...   \n",
      "8119     e         k           s         n        f    n               a   \n",
      "8120     e         x           s         n        f    n               a   \n",
      "8121     e         f           s         n        f    n               a   \n",
      "8122     p         k           y         n        f    y               f   \n",
      "8123     e         x           s         n        f    n               a   \n",
      "\n",
      "     gill-spacing gill-size gill-color  ... stalk-surface-below-ring  \\\n",
      "0               c         n          k  ...                        s   \n",
      "1               c         b          k  ...                        s   \n",
      "2               c         b          n  ...                        s   \n",
      "3               c         n          n  ...                        s   \n",
      "4               w         b          k  ...                        s   \n",
      "...           ...       ...        ...  ...                      ...   \n",
      "8119            c         b          y  ...                        s   \n",
      "8120            c         b          y  ...                        s   \n",
      "8121            c         b          n  ...                        s   \n",
      "8122            c         n          b  ...                        k   \n",
      "8123            c         b          y  ...                        s   \n",
      "\n",
      "     stalk-color-above-ring stalk-color-below-ring veil-type veil-color  \\\n",
      "0                         w                      w         p          w   \n",
      "1                         w                      w         p          w   \n",
      "2                         w                      w         p          w   \n",
      "3                         w                      w         p          w   \n",
      "4                         w                      w         p          w   \n",
      "...                     ...                    ...       ...        ...   \n",
      "8119                      o                      o         p          o   \n",
      "8120                      o                      o         p          n   \n",
      "8121                      o                      o         p          o   \n",
      "8122                      w                      w         p          w   \n",
      "8123                      o                      o         p          o   \n",
      "\n",
      "     ring-number ring-type spore-print-color population habitat  \n",
      "0              o         p                 k          s       u  \n",
      "1              o         p                 n          n       g  \n",
      "2              o         p                 n          n       m  \n",
      "3              o         p                 k          s       u  \n",
      "4              o         e                 n          a       g  \n",
      "...          ...       ...               ...        ...     ...  \n",
      "8119           o         p                 b          c       l  \n",
      "8120           o         p                 b          v       l  \n",
      "8121           o         p                 b          c       l  \n",
      "8122           o         e                 w          v       l  \n",
      "8123           o         p                 o          c       l  \n",
      "\n",
      "[8124 rows x 23 columns]\n"
     ]
    }
   ],
   "source": [
    "columns = [\n",
    "    \"Class\", \"cap-shape\", \"cap-surface\", \"cap-color\", \"bruises?\", \"odor\",\n",
    "    \"gill-attachment\", \"gill-spacing\", \"gill-size\", \"gill-color\", \"stalk-shape\",\n",
    "    \"stalk-root\", \"stalk-surface-above-ring\", \"stalk-surface-below-ring\", \"stalk-color-above-ring\",\n",
    "    \"stalk-color-below-ring\", \"veil-type\", \"veil-color\", \"ring-number\", \"ring-type\",\n",
    "    \"spore-print-color\", \"population\", \"habitat\"\n",
    "    ]\n",
    "\n",
    "dataset = pd.read_csv(\"./src/agaricus-lepiota.data\", sep=\",\", names=columns)\n",
    "\n",
    "print(dataset)"
   ]
  },
  {
   "cell_type": "code",
   "execution_count": 3,
   "metadata": {},
   "outputs": [
    {
     "name": "stdout",
     "output_type": "stream",
     "text": [
      "e\n"
     ]
    }
   ],
   "source": [
    "clases_values = {\"positive\": \"e\", \"negative\": \"p\"}\n",
    "\n",
    "print(clases_values[\"positive\"])"
   ]
  },
  {
   "cell_type": "markdown",
   "metadata": {},
   "source": [
    "## Separate positive and negative clases"
   ]
  },
  {
   "cell_type": "code",
   "execution_count": 4,
   "metadata": {},
   "outputs": [
    {
     "name": "stdout",
     "output_type": "stream",
     "text": [
      "[['p', 3916], ['e', 4208]]\n",
      "['p', 'e']\n",
      "[['p', 0.48202855736090594], ['e', 0.517971442639094]]\n"
     ]
    }
   ],
   "source": [
    "from homemaid_libs.procesamiento_datasets import extraer_muestra, valores_observados, repeticiones_de_valor\n",
    "\n",
    "total_clases_original = []\n",
    "\n",
    "clases = valores_observados(dataset[\"Class\"].values)\n",
    "proporcion = []\n",
    "\n",
    "for clase in clases:\n",
    "    total = repeticiones_de_valor(clase, dataset[\"Class\"].values)\n",
    "    total_clases_original.append([clase, total])\n",
    "\n",
    "    proporcion.append([clase, total/len(dataset[\"Class\"].values)])\n",
    "\n",
    "print(total_clases_original)\n",
    "print(clases)\n",
    "print(proporcion)"
   ]
  },
  {
   "cell_type": "code",
   "execution_count": 6,
   "metadata": {},
   "outputs": [
    {
     "name": "stdout",
     "output_type": "stream",
     "text": [
      "5686\n",
      "[['p', 2740], ['e', 2945]]\n",
      "['p', 2740]\n",
      "3916 3916\n",
      "['e', 2945]\n",
      "5384 5384\n",
      "column size: 22\n",
      "     cap-shape cap-surface cap-color bruises? odor gill-attachment  \\\n",
      "2740         f           f         g        f    n               f   \n",
      "2741         f           s         w        f    n               f   \n",
      "2742         f           y         n        t    l               f   \n",
      "2743         x           y         n        t    n               f   \n",
      "2744         s           f         n        f    n               f   \n",
      "...        ...         ...       ...      ...  ...             ...   \n",
      "5680         x           y         e        t    n               f   \n",
      "5681         f           s         w        f    n               f   \n",
      "5682         f           s         n        f    n               f   \n",
      "5683         x           y         y        t    l               f   \n",
      "5684         f           y         g        t    n               f   \n",
      "\n",
      "     gill-spacing gill-size gill-color stalk-shape  ...  \\\n",
      "2740            w         b          p           t  ...   \n",
      "2741            w         b          p           t  ...   \n",
      "2742            c         b          w           e  ...   \n",
      "2743            c         b          p           t  ...   \n",
      "2744            c         n          k           e  ...   \n",
      "...           ...       ...        ...         ...  ...   \n",
      "5680            c         b          n           t  ...   \n",
      "5681            w         b          n           t  ...   \n",
      "5682            w         b          n           t  ...   \n",
      "5683            c         b          g           e  ...   \n",
      "5684            c         b          u           t  ...   \n",
      "\n",
      "     stalk-color-above-ring stalk-color-below-ring veil-type veil-color  \\\n",
      "2740                      w                      w         p          w   \n",
      "2741                      w                      w         p          w   \n",
      "2742                      w                      w         p          w   \n",
      "2743                      g                      w         p          w   \n",
      "2744                      w                      w         p          w   \n",
      "...                     ...                    ...       ...        ...   \n",
      "5680                      w                      g         p          w   \n",
      "5681                      w                      w         p          w   \n",
      "5682                      w                      w         p          w   \n",
      "5683                      w                      w         p          w   \n",
      "5684                      w                      w         p          w   \n",
      "\n",
      "     ring-number ring-type spore-print-color population habitat Class  \n",
      "2740           o         e                 k          s       g     e  \n",
      "2741           o         e                 k          a       g     e  \n",
      "2742           o         p                 k          y       p     e  \n",
      "2743           o         p                 n          y       d     e  \n",
      "2744           o         p                 k          v       u     e  \n",
      "...          ...       ...               ...        ...     ...   ...  \n",
      "5680           o         p                 n          y       d     e  \n",
      "5681           o         e                 k          a       g     e  \n",
      "5682           o         e                 n          s       g     e  \n",
      "5683           o         p                 n          s       g     e  \n",
      "5684           o         p                 k          v       d     e  \n",
      "\n",
      "[2325 rows x 23 columns]\n",
      "     cap-shape cap-surface cap-color bruises? odor gill-attachment  \\\n",
      "0            x           f         g        f    f               f   \n",
      "1            x           s         e        f    s               f   \n",
      "2            f           y         b        t    n               f   \n",
      "3            f           s         e        f    y               f   \n",
      "4            x           y         y        f    f               f   \n",
      "...        ...         ...       ...      ...  ...             ...   \n",
      "5646         f           s         g        t    f               f   \n",
      "5657         x           y         e        f    f               f   \n",
      "5663         f           f         g        f    f               f   \n",
      "5672         f           f         y        f    f               f   \n",
      "5675         x           f         g        f    f               f   \n",
      "\n",
      "     gill-spacing gill-size gill-color stalk-shape  ...  \\\n",
      "0               c         b          g           e  ...   \n",
      "1               c         n          b           t  ...   \n",
      "2               c         b          g           e  ...   \n",
      "3               c         n          b           t  ...   \n",
      "4               c         b          g           e  ...   \n",
      "...           ...       ...        ...         ...  ...   \n",
      "5646            c         b          h           t  ...   \n",
      "5657            c         n          b           t  ...   \n",
      "5663            c         b          h           e  ...   \n",
      "5672            c         b          h           e  ...   \n",
      "5675            c         b          g           e  ...   \n",
      "\n",
      "     stalk-color-above-ring stalk-color-below-ring veil-type veil-color  \\\n",
      "0                         n                      n         p          w   \n",
      "1                         w                      p         p          w   \n",
      "2                         w                      w         p          w   \n",
      "3                         w                      w         p          w   \n",
      "4                         b                      b         p          w   \n",
      "...                     ...                    ...       ...        ...   \n",
      "5646                      w                      w         p          w   \n",
      "5657                      w                      p         p          w   \n",
      "5663                      n                      p         p          w   \n",
      "5672                      b                      n         p          w   \n",
      "5675                      b                      p         p          w   \n",
      "\n",
      "     ring-number ring-type spore-print-color population habitat Class  \n",
      "0              o         l                 h          y       p     p  \n",
      "1              o         e                 w          v       l     p  \n",
      "2              t         p                 r          v       m     p  \n",
      "3              o         e                 w          v       d     p  \n",
      "4              o         l                 h          y       p     p  \n",
      "...          ...       ...               ...        ...     ...   ...  \n",
      "5646           o         p                 h          v       g     p  \n",
      "5657           o         e                 w          v       l     p  \n",
      "5663           o         l                 h          y       p     p  \n",
      "5672           o         l                 h          y       g     p  \n",
      "5675           o         l                 h          v       d     p  \n",
      "\n",
      "[3360 rows x 23 columns]\n"
     ]
    }
   ],
   "source": [
    "train, test = extraer_muestra(dataset.drop(\"Class\", axis=1), dataset[\"Class\"], proporcion, dataset.__len__(), 0.7)\n",
    "\n",
    "# print(train)\n",
    "\n",
    "positive_train = train[train[\"Class\"] == clases_values[\"positive\"]]\n",
    "negative_train = train[train[\"Class\"] == clases_values[\"negative\"]]\n",
    "\n",
    "print(positive_train)\n",
    "print(negative_train)"
   ]
  }
 ],
 "metadata": {
  "kernelspec": {
   "display_name": "aprendisaje-simbolico-automatico",
   "language": "python",
   "name": "python3"
  },
  "language_info": {
   "codemirror_mode": {
    "name": "ipython",
    "version": 3
   },
   "file_extension": ".py",
   "mimetype": "text/x-python",
   "name": "python",
   "nbconvert_exporter": "python",
   "pygments_lexer": "ipython3",
   "version": "3.10.12"
  }
 },
 "nbformat": 4,
 "nbformat_minor": 2
}
